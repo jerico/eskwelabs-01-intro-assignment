{
 "cells": [
  {
   "cell_type": "markdown",
   "metadata": {
    "colab_type": "text",
    "id": "51dZwqDNc9x6"
   },
   "source": [
    "# Data Science - Getting Started with Python\n",
    "\n",
    "Following are exercises you should complete. Workflow:\n",
    "\n",
    "1. Complete the exercises! This means fill out the code cells, and run them (shift-enter or click the play button that appears when you're in one of them)\n",
    "2. Take a look at your work, and write comments/add text cells as appropriate to explain\n",
    "3. Upload the notebook to your GitHub repository and submit a link [here](https://docs.google.com/forms/d/e/1FAIpQLScdlw-GN3tHPHxROIulxoPmxXmvK-UmXco3lgjiJ0Ckltn6QA/viewform?usp=sf_link)"
   ]
  },
  {
   "cell_type": "markdown",
   "metadata": {
    "colab_type": "text",
    "id": "I6biutgwdgpb"
   },
   "source": [
    "## Exercise 1 - A bit of Math\n",
    "\n",
    "For these \"word\" problems, use Python to clearly solve them. Your code will \"show your work\" - use good variable names! To show your answers you should write a `print()` statement at the end.\n",
    "\n",
    "### a) It's a gas\n",
    "\n",
    "A taxi driver is calculating their profit over two weeks by adding up the fares they charge and subtracting the cost of gas. The price of gas changes over time - it was `$3.52`/gallon the first week and `$3.57`/gallon this second week. Their car gets 20 miles per gallon.\n",
    "\n",
    "For the first week the driver had a total of 23 passengers with average `$29` fare each, and drove a total of 160 miles. For the second week they had 17 passengers with average `$30` fare each, and drove a total of 220 miles. Assume that for both weeks they purchase all the gas needed during that week (i.e. they refuel every week to maintain a constant level of gas in the tank).\n",
    "\n",
    "Based on the above, answer the following questions:\n",
    "\n",
    "- What is their total profit over both weeks?\n",
    "- During which week was their average (mean) profit per passenger higher?\n"
   ]
  },
  {
   "cell_type": "code",
   "execution_count": 30,
   "metadata": {
    "colab": {},
    "colab_type": "code",
    "id": "CWJeYQW6AoGf"
   },
   "outputs": [
    {
     "name": "stdout",
     "output_type": "stream",
     "text": [
      "Week 1: 638.84\n",
      "Week 2: 470.73\n",
      "Total Profit: 1109.57\n",
      "Higher profit per passenger: Week 1\n"
     ]
    }
   ],
   "source": [
    "# your code here    \n",
    "\n",
    "miles_per_gallon = 20\n",
    "\n",
    "week1_gas_price = 3.52\n",
    "week1_passengers = 23\n",
    "week1_fare = 29\n",
    "week1_miles = 160\n",
    "\n",
    "week2_gas_price = 3.57\n",
    "week2_passengers = 17\n",
    "week2_fare = 30\n",
    "week2_miles = 220\n",
    "\n",
    "def compute_profit(gas_price, passengers, fare, miles):\n",
    "    gallons_of_gas = miles / miles_per_gallon\n",
    "    gas_price_total = gallons_of_gas * gas_price\n",
    "    gross = passengers * fare\n",
    "    profit = gross - gas_price_total\n",
    "    \n",
    "    return profit\n",
    "\n",
    "week1_profit = compute_profit(week1_gas_price, week1_passengers, week1_fare, week1_miles)\n",
    "week2_profit = compute_profit(week2_gas_price, week2_passengers, week2_fare, week2_miles)\n",
    "\n",
    "week_higher_profit = \"Week 1\" if (week1_profit / week1_passengers) > (week2_profit / week2_passengers) else \"Week 2\"\n",
    "\n",
    "print(\"Week 1: \" + str(week1_profit))\n",
    "\n",
    "print(\"Week 2: \" + str(week2_profit))\n",
    "\n",
    "print(\"Total Profit: \" + str( round(week1_profit + week2_profit, 2)))\n",
    "\n",
    "print(\"Higher profit per passenger: \" + week_higher_profit)\n",
    "\n",
    "\n"
   ]
  },
  {
   "cell_type": "markdown",
   "metadata": {
    "colab_type": "text",
    "id": "0l4bUPHmR5Ko"
   },
   "source": [
    "### b) Mo' money...\n",
    "\n",
    "A cash drawer contains 160 bills, all 10s and 50s. The total value of the 10s and 50s is $1,760.\n",
    "\n",
    "How many of each type of bill are in the drawer? You can figure this out by trial and error (or by doing algebra with pencil and paper), but try to use loops and conditionals to check a plausible possibilities and stop when you find the correct one."
   ]
  },
  {
   "cell_type": "code",
   "execution_count": 39,
   "metadata": {
    "colab": {},
    "colab_type": "code",
    "id": "Q2Atz_kyR8_6"
   },
   "outputs": [
    {
     "name": "stdout",
     "output_type": "stream",
     "text": [
      "50s: 4\n",
      "10s: 156\n"
     ]
    }
   ],
   "source": [
    "# your code here\n",
    "\n",
    "for x in range(0, 160):\n",
    "    y = 160 - x\n",
    "    if ((y * 50) + (x * 10) > 1760):\n",
    "        pass\n",
    "    else:\n",
    "        print(\"50s: \" + str(y))\n",
    "        print(\"10s: \" + str(x))\n",
    "        break"
   ]
  },
  {
   "cell_type": "markdown",
   "metadata": {
    "colab_type": "text",
    "id": "UCFtX_q9aQlc"
   },
   "source": [
    "## Exercise 2 - Drawing a plot\n",
    "\n",
    "Use NumPy and Matplotlib to draw a scatterplot of uniform random `(x, y)` values all drawn from the `[0, 1]` interval. Helpful documentation:\n",
    "\n",
    "*   https://matplotlib.org/tutorials/index.html\n",
    "*   https://docs.scipy.org/doc/numpy/user/quickstart.html\n",
    "\n",
    "Stretch goal - draw more plots! You can refer to the [Matplotlib gallery](https://matplotlib.org/gallery.html) for inspiration, but don't just reproduce something - try to apply it to your own data.\n",
    "\n",
    "How to get data? There's *many* ways, but a good place to get started is with [sklearn.datasets](http://scikit-learn.org/stable/datasets/index.html):\n",
    "\n",
    "```\n",
    "from sklearn import datasets\n",
    "dir(datasets)\n",
    "```"
   ]
  },
  {
   "cell_type": "code",
   "execution_count": 15,
   "metadata": {
    "colab": {},
    "colab_type": "code",
    "id": "pNEb09gMaltL"
   },
   "outputs": [
    {
     "data": {
      "image/png": "[encoded data removed]",
      "text/plain": [
       "<Figure size 432x288 with 1 Axes>"
      ]
     },
     "metadata": {
      "needs_background": "light"
     },
     "output_type": "display_data"
    },
    {
     "name": "stdout",
     "output_type": "stream",
     "text": [
      "Stretch Goal\n"
     ]
    }
   ],
   "source": [
    "import matplotlib.pyplot as plt\n",
    "import numpy as np\n",
    "\n",
    "np.random.seed(12345)\n",
    "\n",
    "N = 10\n",
    "x = np.random.rand(N)\n",
    "y = np.random.rand(N)\n",
    "\n",
    "plt.scatter(x, y)\n",
    "plt.show()\n"
   ]
  },
  {
   "cell_type": "code",
   "execution_count": 91,
   "metadata": {},
   "outputs": [
    {
     "data": {
      "image/png": "[encoded data removed]",
      "text/plain": [
       "<Figure size 432x288 with 1 Axes>"
      ]
     },
     "metadata": {
      "needs_background": "light"
     },
     "output_type": "display_data"
    }
   ],
   "source": [
    "import numpy as np\n",
    "import pandas as pd\n",
    "import matplotlib.pyplot as plt\n",
    "\n",
    "df = pd.read_csv('lrt1_daily_and_monthly_passenger_traffic_per_station_2014_0.csv')\n",
    "\n",
    "#print(data)\n",
    "\n",
    "stations = df.station.unique()\n",
    "\n",
    "entries = df[df[\"movement\"] == \"Entry\"]\n",
    "exits = df[df[\"movement\"] == \"Exit\"]\n",
    "\n",
    "#entry = [ [ s for s in stations ] for i,x in enumerate(stations) if df.loc[i].station == x ]\n",
    "\n",
    "entry = []\n",
    "exit = []\n",
    "\n",
    "for s in stations:\n",
    "    entry.append(entries[entries[\"station\"]  == s]['count_traffic'].sum())\n",
    "    exit.append(exits[exits[\"station\"]  == s]['count_traffic'].sum())\n",
    "    \n",
    "ind = np.arange(len(entry))\n",
    "width = 0.5\n",
    "\n",
    "fig, ax = plt.subplots()\n",
    "rects1 = ax.bar(ind*2 - width, entry, color='Blue', label='Entry')\n",
    "rects2 = ax.bar(ind*2 + width, exit, color='Red', label='Exit')\n",
    "\n",
    "ax.set_ylabel('Passengers')\n",
    "ax.set_title('LRT1 Passenger Traffic Per Station (2014)')\n",
    "ax.set_xticks(ind*2)\n",
    "ax.set_xticklabels(stations, rotation='vertical')\n",
    "ax.legend()\n",
    "\n",
    "\n",
    "plt.show()"
   ]
  },
  {
   "cell_type": "code",
   "execution_count": null,
   "metadata": {},
   "outputs": [],
   "source": []
  }
 ],
 "metadata": {
  "colab": {
   "collapsed_sections": [],
   "name": "LSDS Intro Assignment 1 - Getting Started with Python.ipynb",
   "provenance": [],
   "version": "0.3.2"
  },
  "kernelspec": {
   "display_name": "Python 3",
   "language": "python",
   "name": "python3"
  },
  "language_info": {
   "codemirror_mode": {
    "name": "ipython",
    "version": 3
   },
   "file_extension": ".py",
   "mimetype": "text/x-python",
   "name": "python",
   "nbconvert_exporter": "python",
   "pygments_lexer": "ipython3",
   "version": "3.7.3"
  }
 },
 "nbformat": 4,
 "nbformat_minor": 1
}
